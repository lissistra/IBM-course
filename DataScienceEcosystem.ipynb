{
 "cells": [
  {
   "cell_type": "markdown",
   "id": "b8208a06-b3a8-4b2d-9370-dcd218520231",
   "metadata": {},
   "source": [
    "# Data Science Tools and Ecosystem "
   ]
  },
  {
   "cell_type": "markdown",
   "id": "d1764812-b5e1-4b58-bc90-a8f5a1d13c79",
   "metadata": {},
   "source": [
    "In this notebook, Data Science Tools and Ecosystem are summarized."
   ]
  },
  {
   "cell_type": "markdown",
   "id": "5989f47c-c138-47ef-8120-e1ab7453918b",
   "metadata": {},
   "source": [
    "**Objectives:**\n",
    "\n",
    "- List popular programming languages used in Data Science\n",
    "- Describe the features of Jupyter Notebook and JupyterLab\n",
    "- Explain how to run, insert, delete, and move cells in a notebook\n",
    "- Understand kernels and how they execute code\n",
    "- Identify local and cloud-based Jupyter environments for data science"
   ]
  },
  {
   "cell_type": "markdown",
   "id": "254b9489-14eb-4e25-b7e5-43da3010ff84",
   "metadata": {},
   "source": [
    "Some of the popular languages that Data Scientists use are:\n",
    "1. Python\n",
    "2. R\n",
    "3. SQL"
   ]
  },
  {
   "cell_type": "markdown",
   "id": "f1125b92-5b50-4773-9e99-c6faa6db9e31",
   "metadata": {},
   "source": [
    "Some of the commonly used libraries used by Data Scientists include:\n",
    "1. NumPy\n",
    "2. Pandas\n",
    "3. Matplotlib"
   ]
  },
  {
   "cell_type": "markdown",
   "id": "ff568355-a265-4a2f-9a7f-3b34b615e016",
   "metadata": {
    "jp-MarkdownHeadingCollapsed": true
   },
   "source": [
    "| Data Science Tools |\n",
    "| ------------------- |\n",
    "| Jupyter Notebooks   |\n",
    "| Jupyter Lab         |\n",
    "| RStudio             |"
   ]
  },
  {
   "cell_type": "markdown",
   "id": "35c4091d-d846-4a58-9874-8a81ff062902",
   "metadata": {},
   "source": [
    "### Below are a few examples of evaluating arithmetic expressions in Python."
   ]
  },
  {
   "cell_type": "code",
   "execution_count": 12,
   "id": "097073b3-61d7-42d3-83a3-d0777e9e654e",
   "metadata": {},
   "outputs": [
    {
     "data": {
      "text/plain": [
       "17"
      ]
     },
     "execution_count": 12,
     "metadata": {},
     "output_type": "execute_result"
    }
   ],
   "source": [
    "# This a simple arithmetic expression to mutiply then add integers.\n",
    "(3*4)+5"
   ]
  },
  {
   "cell_type": "code",
   "execution_count": 13,
   "id": "bcaf814e-3d3c-4072-95a8-bfd73f65dd0e",
   "metadata": {},
   "outputs": [
    {
     "data": {
      "text/plain": [
       "3.3333333333333335"
      ]
     },
     "execution_count": 13,
     "metadata": {},
     "output_type": "execute_result"
    }
   ],
   "source": [
    "# This will convert 200 minutes to hours by dividing by 60.\n",
    "200 / 60"
   ]
  },
  {
   "cell_type": "markdown",
   "id": "ed503ae4-76a9-4a83-a5c8-37dc75b7f067",
   "metadata": {},
   "source": [
    "## Author \n",
    "Lissi Straßer"
   ]
  },
  {
   "cell_type": "code",
   "execution_count": null,
   "id": "08a5526e-8a28-4f22-b1d3-2ee08949da2f",
   "metadata": {},
   "outputs": [],
   "source": []
  }
 ],
 "metadata": {
  "kernelspec": {
   "display_name": "Python 3 (ipykernel)",
   "language": "python",
   "name": "python3"
  },
  "language_info": {
   "codemirror_mode": {
    "name": "ipython",
    "version": 3
   },
   "file_extension": ".py",
   "mimetype": "text/x-python",
   "name": "python",
   "nbconvert_exporter": "python",
   "pygments_lexer": "ipython3",
   "version": "3.13.5"
  }
 },
 "nbformat": 4,
 "nbformat_minor": 5
}
